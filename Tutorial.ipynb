{
 "cells": [
  {
   "cell_type": "markdown",
   "metadata": {},
   "source": [
    "# Financial Options Through Classes in Python"
   ]
  },
  {
   "cell_type": "code",
   "execution_count": 64,
   "metadata": {},
   "outputs": [],
   "source": [
    "import abc\n",
    "from scipy.stats import norm\n",
    "import numpy as np"
   ]
  },
  {
   "cell_type": "markdown",
   "metadata": {},
   "source": [
    "Latex Commands\n",
    "$$\n",
    "%\\usepackage{amsmath}\n",
    "\\newcommand{\\brac}[1]{\\left(#1\\right)}\n",
    "\\newcommand{\\sqbrac}[1]{\\left[#1\\right]}\n",
    "\\newcommand{\\curlbrac}[1]{\\left\\{#1\\right\\}}\n",
    "\\newcommand{\\pbrac}[1]{\\left\\langle#1\\right\\rangle}\n",
    "\\newcommand{\\diff}[2]{\\frac{d\\ifthenelse{\\equal{#1}{}}{}{#1}}{d#2}}\n",
    "\\newcommand{\\pardiff}[2]{\\frac{\\partial #1}{\\partial #2}}\n",
    "\\newcommand{\\abs}[1]{\\left\\lvert#1\\right\\rvert}\n",
    "\\newcommand{\\norm}[1]{\\left\\lVert#1\\right\\rVert}\n",
    "\\newcommand{\\normTwo}[1]{\\left\\lVert#1\\right\\rVert_2}\n",
    "\\newcommand{\\innerprod}[2]{\\pbrac{#1,#2}}\n",
    "\\newcommand{\\ceil}[1]{\\left\\lceil#1\\right\\rceil}\n",
    "\\newcommand{\\floor}[1]{\\left\\lfloor#1\\right\\rfloor}\n",
    "\\newcommand{\\E}[1]{\\mathbb{E}\\left[#1\\right]}\n",
    "\\newcommand{\\V}[1]{\\mathbb{V}\\left[#1\\right]}\n",
    "\\newcommand{\\F}[1]{\\mathcal{F}_{#1}}\n",
    "\\newcommand{\\N}{\\mathbb{N}}\n",
    "\\newcommand{\\R}{\\mathbb{R}}\n",
    "\\newcommand{\\C}{\\mathbb{C}}\n",
    "\\newcommand{\\Q}{\\mathbb{Q}}\n",
    "\\newcommand{\\Z}{\\mathbb{Z}}\n",
    "\\newcommand{\\W}{\\mathbb{W}}\n",
    "\\newcommand{\\prob}[1]{\\mathbb{P}\\left[#1\\right]}\n",
    "\\newcommand{\\ind}[1]{\\mathbbm{1}_{\\left\\{#1\\right\\}}}\n",
    "\\newcommand{\\real}[1]{\\mathbb{R}^{#1}}\n",
    "\\newcommand{\\vmin}[2]{#1 \\wedge #2}\n",
    "\\newcommand{\\repart}[1]{\\text{Re}\\brac{#1}}\n",
    "\\newcommand{\\impart}[1]{\\text{Im}\\brac{#1}}\n",
    "\\newcommand{\\normcdf}[1]{\\text{N}\\brac{#1}}\n",
    "\\newcommand{\\normpdf}[1]{\\text{N}'\\brac{#1}}\n",
    "\\newcommand{\\betahat}{\\hat{\\beta}}\n",
    "\\newcommand{\\argmin}{\\text{argmin}}\n",
    "\\newcommand{\\argmax}{\\text{argmax}}\n",
    "\\newcommand{\\DFE}{\\text{DFE}}\n",
    "\\newcommand{\\rsquared}{\\text{R}^2}\n",
    "\\newcommand{\\MSE}{\\text{MSE}}\n",
    "\\newcommand{\\normdist}[2]{\\text{N}\\brac{#1,#2}}\n",
    "\\newcommand{\\tdist}[1]{\\text{T}\\brac{#1}}\n",
    "\\newcommand{\\tstat}{\\text{T-stat}}\n",
    "\\newcommand{\\pval}{\\text{p-value}}\n",
    "\\newcommand{\\red}[1]{{\\color{red}#1}}\n",
    "\\newcommand{\\cyan}[1]{{\\color{cyan}#1}}\n",
    "\\newcommand{\\yellow}[1]{{\\color{yellow}#1}}\n",
    "\\newcommand{\\green}[1]{{\\color{green}#1}}\n",
    "\\newcommand{\\orange}[1]{{\\color{orange}#1}}\n",
    "$$"
   ]
  },
  {
   "cell_type": "markdown",
   "metadata": {},
   "source": [
    "## Pricing European Options\n",
    "\n",
    "For a European call option, we can use the Black-Scholes option pricing formula:\n",
    "\n",
    "$$\\begin{eqnarray}\n",
    "C\\brac{S_t,t} &=& \\normcdf{d_1}\\cdot S_t - \\normcdf{d_2}\\cdot Ke^{-r\\brac{T-t}} \\\\\n",
    "d_1 &=& \\frac{\\log\\brac{\\frac{S_t}{K}} + \\brac{r+\\frac{\\sigma^2}{2}}\\brac{T-t}}{\\sigma\\sqrt{T-t}} \\\\\n",
    "d_2 &=& d_1 - \\sigma\\sqrt{T-t}\n",
    "\\end{eqnarray}$$\n",
    "\n",
    "Where:\n",
    "\n",
    "$$\\begin{eqnarray}\n",
    "t &:& \\text{Current time}\\\\\n",
    "S_t &:& \\text{Asset price at time } t\\\\\n",
    "K &:& \\text{Strike price}\\\\\n",
    "\\sigma &:& \\text{Asset volatility}\\\\\n",
    "T &:& \\text{Maturity of the option}\\\\\n",
    "r &:& \\text{Interest rate}\\\\\n",
    "C\\brac{S_t,t} &:& \\text{Value of a call option at time } t \\text{ with current asset price } S_t\\\\\n",
    "\\normcdf{\\cdot} &:& \\text{Standard normal cumulative density function}\n",
    "\\end{eqnarray}$$\n",
    "\n",
    "We will now try to encode this into a Python class."
   ]
  },
  {
   "cell_type": "markdown",
   "metadata": {},
   "source": [
    "## Basic Python Class\n",
    "\n",
    "We can create a python class using the `class` keyword. Everything written within the class definition will be run when the class is instantiated.\n",
    "\n",
    "The simplest class definition can be done as the following:"
   ]
  },
  {
   "cell_type": "code",
   "execution_count": 65,
   "metadata": {},
   "outputs": [],
   "source": [
    "class EuropeanOption:\n",
    "    pass"
   ]
  },
  {
   "cell_type": "markdown",
   "metadata": {},
   "source": [
    "Now we can create an instance of the class `EuropeanOption` by calling itself:"
   ]
  },
  {
   "cell_type": "code",
   "execution_count": 66,
   "metadata": {},
   "outputs": [
    {
     "name": "stdout",
     "output_type": "stream",
     "text": [
      "Variable \"european_option_instance\" is of type: <class '__main__.EuropeanOption'>\n"
     ]
    }
   ],
   "source": [
    "european_option_instance = EuropeanOption()\n",
    "print(f'Variable \"european_option_instance\" is of type: {type(european_option_instance)}')"
   ]
  },
  {
   "cell_type": "markdown",
   "metadata": {},
   "source": [
    "We managed to create an instance of the class `EuropeanOption`, python allows us to add attributes on the fly:"
   ]
  },
  {
   "cell_type": "code",
   "execution_count": 67,
   "metadata": {},
   "outputs": [
    {
     "name": "stdout",
     "output_type": "stream",
     "text": [
      "New attribute \"current_time\" value: 0\n"
     ]
    }
   ],
   "source": [
    "european_option_instance.current_time = 0\n",
    "print(f'New attribute \"current_time\" value: {european_option_instance.current_time}')"
   ]
  },
  {
   "cell_type": "markdown",
   "metadata": {},
   "source": [
    "Even though, python allows us to add attributes on the fly, I think it is better to avoid that and to specify the attributes within the class:"
   ]
  },
  {
   "cell_type": "code",
   "execution_count": 68,
   "metadata": {},
   "outputs": [
    {
     "name": "stdout",
     "output_type": "stream",
     "text": [
      "Attribute \"current_time\" created within the class value: 1\n"
     ]
    }
   ],
   "source": [
    "class EuropeanOption:\n",
    "    current_time = 1\n",
    "    \n",
    "european_option_instance = EuropeanOption()\n",
    "print(f'Attribute \"current_time\" created within the class value: {european_option_instance.current_time}')"
   ]
  },
  {
   "cell_type": "markdown",
   "metadata": {},
   "source": [
    "Everything within the `class` definition will be run when the class is defined but not when it is instantiated, let us look at the following example:"
   ]
  },
  {
   "cell_type": "code",
   "execution_count": 69,
   "metadata": {},
   "outputs": [
    {
     "name": "stdout",
     "output_type": "stream",
     "text": [
      "Class definition:\n",
      "    Start instantiating\n",
      "    Added \"current_time\"\n",
      "    Finished instantiating\n"
     ]
    }
   ],
   "source": [
    "print('Class definition:')\n",
    "class EuropeanOption:\n",
    "    print('    Start instantiating')\n",
    "    current_time = 1\n",
    "    print('    Added \"current_time\"')\n",
    "    print('    Finished instantiating')"
   ]
  },
  {
   "cell_type": "code",
   "execution_count": 70,
   "metadata": {},
   "outputs": [
    {
     "name": "stdout",
     "output_type": "stream",
     "text": [
      "Class instantiation:\n",
      "    Nothing printed\n"
     ]
    }
   ],
   "source": [
    "print('Class instantiation:')\n",
    "european_option_instance = EuropeanOption()\n",
    "print('    Nothing printed')"
   ]
  },
  {
   "cell_type": "markdown",
   "metadata": {},
   "source": [
    "## Using `__init__`"
   ]
  },
  {
   "cell_type": "markdown",
   "metadata": {},
   "source": [
    "We now know how to create a python class and add some attributes. We will now use the `__init__` function in a class definition to help us instantiate a class with validation."
   ]
  },
  {
   "cell_type": "code",
   "execution_count": 71,
   "metadata": {},
   "outputs": [],
   "source": [
    "class EuropeanOption:\n",
    "    \n",
    "    def __init__(self, current_time, current_asset_price, strike_price, asset_volatility, maturity,\n",
    "                 interest_rate):\n",
    "        \n",
    "        self.current_time = current_time\n",
    "        self.current_asset_price = current_asset_price\n",
    "        self.strike_price = strike_price\n",
    "        assert asset_volatility > 0, '\"asset_volatility\" needs to be greater than 0'\n",
    "        self.asset_volatility = asset_volatility\n",
    "        assert maturity >= current_time, '\"maturity\" needs to be greater than \"current_time\"'\n",
    "        self.maturity = maturity\n",
    "        self.interest_rate = interest_rate    "
   ]
  },
  {
   "cell_type": "code",
   "execution_count": 72,
   "metadata": {},
   "outputs": [],
   "source": [
    "def make_option():\n",
    "    european_option_instance = EuropeanOption(current_time=0, current_asset_price=100, strike_price=100, \n",
    "                                              asset_volatility=0.1, maturity=1, interest_rate=0.01)\n",
    "    return european_option_instance"
   ]
  },
  {
   "cell_type": "markdown",
   "metadata": {},
   "source": [
    "Now we will not be able to instantiate the class without providing the correct arguments:"
   ]
  },
  {
   "cell_type": "code",
   "execution_count": 73,
   "metadata": {},
   "outputs": [],
   "source": [
    "# Expected error\n",
    "# european_option_instance = EuropeanOption()"
   ]
  },
  {
   "cell_type": "markdown",
   "metadata": {},
   "source": [
    "However, if we give the correct inputs, the class will be instantiated correctly:"
   ]
  },
  {
   "cell_type": "code",
   "execution_count": 74,
   "metadata": {},
   "outputs": [
    {
     "name": "stdout",
     "output_type": "stream",
     "text": [
      "\"current_asset_price\" of \"european_option_instance\": 100\n"
     ]
    }
   ],
   "source": [
    "european_option_instance = make_option()\n",
    "print(f'\"current_asset_price\" of \"european_option_instance\": {european_option_instance.current_asset_price}')"
   ]
  },
  {
   "cell_type": "markdown",
   "metadata": {},
   "source": [
    "We can use the function `dir` to find out what belongs in our instance. This gives us lots of double underscore functions normally called dunder functions which we will come to later in the tutorial but at the end of the list from `dir` you will find the attributes that we have defined."
   ]
  },
  {
   "cell_type": "code",
   "execution_count": 75,
   "metadata": {},
   "outputs": [
    {
     "data": {
      "text/plain": [
       "['__class__',\n",
       " '__delattr__',\n",
       " '__dict__',\n",
       " '__dir__',\n",
       " '__doc__',\n",
       " '__eq__',\n",
       " '__format__',\n",
       " '__ge__',\n",
       " '__getattribute__',\n",
       " '__gt__',\n",
       " '__hash__',\n",
       " '__init__',\n",
       " '__init_subclass__',\n",
       " '__le__',\n",
       " '__lt__',\n",
       " '__module__',\n",
       " '__ne__',\n",
       " '__new__',\n",
       " '__reduce__',\n",
       " '__reduce_ex__',\n",
       " '__repr__',\n",
       " '__setattr__',\n",
       " '__sizeof__',\n",
       " '__str__',\n",
       " '__subclasshook__',\n",
       " '__weakref__',\n",
       " 'asset_volatility',\n",
       " 'current_asset_price',\n",
       " 'current_time',\n",
       " 'interest_rate',\n",
       " 'maturity',\n",
       " 'strike_price']"
      ]
     },
     "execution_count": 75,
     "metadata": {},
     "output_type": "execute_result"
    }
   ],
   "source": [
    "dir(european_option_instance)"
   ]
  },
  {
   "cell_type": "markdown",
   "metadata": {},
   "source": [
    "## Defining Class Functions"
   ]
  },
  {
   "cell_type": "markdown",
   "metadata": {},
   "source": [
    "We always have to pass `self` to class functions as the first argument at definition. We can define a function which gets us the time to maturity by doing the following:"
   ]
  },
  {
   "cell_type": "code",
   "execution_count": 76,
   "metadata": {},
   "outputs": [],
   "source": [
    "class EuropeanOption:\n",
    "    \n",
    "    def __init__(self, current_time, current_asset_price, strike_price, asset_volatility, maturity,\n",
    "                 interest_rate):\n",
    "        \n",
    "        self.current_time = current_time\n",
    "        self.current_asset_price = current_asset_price\n",
    "        self.strike_price = strike_price\n",
    "        assert asset_volatility > 0, '\"asset_volatility\" needs to be greater than 0'\n",
    "        self.asset_volatility = asset_volatility\n",
    "        assert maturity >= current_time, '\"maturity\" needs to be greater than \"current_time\"'\n",
    "        self.maturity = maturity\n",
    "        self.interest_rate = interest_rate    \n",
    "    \n",
    "    def time_to_maturity(self):\n",
    "        return self.maturity - self.current_time"
   ]
  },
  {
   "cell_type": "markdown",
   "metadata": {},
   "source": [
    "Now to call the class method, we need to instantiate the class then call the function from that instance and note that the first argument in this case is actually the class itself which is pass in implicitly."
   ]
  },
  {
   "cell_type": "code",
   "execution_count": 77,
   "metadata": {},
   "outputs": [
    {
     "name": "stdout",
     "output_type": "stream",
     "text": [
      "Time to maturity of \"european_option_instance\": 1\n"
     ]
    }
   ],
   "source": [
    "european_option_instance = make_option()\n",
    "\n",
    "print(f'Time to maturity of \"european_option_instance\": {european_option_instance.time_to_maturity()}')"
   ]
  },
  {
   "cell_type": "markdown",
   "metadata": {},
   "source": [
    "We will now define a function which will calculate the value of our option depending on if it is a call or a put option."
   ]
  },
  {
   "cell_type": "code",
   "execution_count": 78,
   "metadata": {},
   "outputs": [],
   "source": [
    "class EuropeanOption:\n",
    "    \n",
    "    def __init__(self, current_time, current_asset_price, strike_price, asset_volatility, maturity,\n",
    "                 interest_rate):\n",
    "        \n",
    "        self.current_time = current_time\n",
    "        self.current_asset_price = current_asset_price\n",
    "        self.strike_price = strike_price\n",
    "        assert asset_volatility > 0, '\"asset_volatility\" needs to be greater than 0'\n",
    "        self.asset_volatility = asset_volatility\n",
    "        assert maturity >= current_time, '\"maturity\" needs to be greater than \"current_time\"'\n",
    "        self.maturity = maturity\n",
    "        self.interest_rate = interest_rate    \n",
    "    \n",
    "    def time_to_maturity(self):\n",
    "        return self.maturity - self.current_time\n",
    "    \n",
    "    def current_value(self, option_type):\n",
    "        t = self.current_time\n",
    "        S_t = self.current_asset_price\n",
    "        K = self.strike_price\n",
    "        sigma = self.asset_volatility\n",
    "        T = self.maturity\n",
    "        r = self.interest_rate\n",
    "        T_minus_t = self.time_to_maturity()\n",
    "        \n",
    "        d_1 = (np.log(S_t / K) + (r + 0.5 * sigma ** 2) * (T_minus_t)) / (sigma * np.sqrt(T_minus_t))\n",
    "        d_2 = d_1 - sigma * np.sqrt(T_minus_t)\n",
    "        \n",
    "        if option_type.lower() == 'call':\n",
    "            output_value = norm.cdf(d_1) * S_t - norm.cdf(d_2) * K * np.exp(-r * T_minus_t)\n",
    "        elif option_type.lower() == 'put':\n",
    "            output_value = -norm.cdf(-d_1) * S_t + norm.cdf(-d_2) * K * np.exp(-r * T_minus_t)\n",
    "        else:\n",
    "            raise Exception(f'Incorrect \"option_type\": {option_type}')\n",
    "            \n",
    "        return output_value"
   ]
  },
  {
   "cell_type": "code",
   "execution_count": 79,
   "metadata": {},
   "outputs": [
    {
     "name": "stdout",
     "output_type": "stream",
     "text": [
      "Price of a call option: 4.49\n",
      "Price of a put option: 3.49\n"
     ]
    }
   ],
   "source": [
    "european_option_instance = make_option()\n",
    "\n",
    "print(f'Price of a call option: {european_option_instance.current_value(option_type=\"call\"):.2f}')\n",
    "print(f'Price of a put option: {european_option_instance.current_value(option_type=\"put\"):.2f}')"
   ]
  },
  {
   "cell_type": "markdown",
   "metadata": {},
   "source": [
    "## Class properties"
   ]
  },
  {
   "cell_type": "markdown",
   "metadata": {},
   "source": [
    "We can create properties for a class which do not depend on any additional arguments instead of wrting them as functions.\n",
    "\n",
    "Using properties means that you dont have to use brackets to call the function.\n",
    "\n",
    "We will look at replacing the function `time_to_maturity` with a property. To do this we use the `@property` decorator."
   ]
  },
  {
   "cell_type": "code",
   "execution_count": 80,
   "metadata": {},
   "outputs": [],
   "source": [
    "class EuropeanOption:\n",
    "    \n",
    "    def __init__(self, current_time, current_asset_price, strike_price, asset_volatility, maturity,\n",
    "                 interest_rate):\n",
    "        \n",
    "        self.current_time = current_time\n",
    "        self.current_asset_price = current_asset_price\n",
    "        self.strike_price = strike_price\n",
    "        assert asset_volatility > 0, '\"asset_volatility\" needs to be greater than 0'\n",
    "        self.asset_volatility = asset_volatility\n",
    "        assert maturity >= current_time, '\"maturity\" needs to be greater than \"current_time\"'\n",
    "        self.maturity = maturity\n",
    "        self.interest_rate = interest_rate    \n",
    "    \n",
    "    @property\n",
    "    def time_to_maturity(self):\n",
    "        return self.maturity - self.current_time"
   ]
  },
  {
   "cell_type": "code",
   "execution_count": 81,
   "metadata": {},
   "outputs": [
    {
     "name": "stdout",
     "output_type": "stream",
     "text": [
      "\"time_to_maturity\" as a property: 1\n"
     ]
    }
   ],
   "source": [
    "european_option_instance = make_option()\n",
    "\n",
    "print(f'\"time_to_maturity\" as a property: {european_option_instance.time_to_maturity}')"
   ]
  },
  {
   "cell_type": "markdown",
   "metadata": {},
   "source": [
    "## Public, protected and private"
   ]
  },
  {
   "cell_type": "markdown",
   "metadata": {},
   "source": [
    "Everything is public by default, items begining with `_` are protected and finally items begining with `__` are private.\n",
    "\n",
    "However, in python nothing is truly protected or private meaning one can find a way to access it one way or another.\n",
    "\n",
    "For example, if we have a private attribute called `__private_attribute` then we will not be able to access it using `instance.__private_attribute` but we will be able to access it using `instance._<instance_class_name>__private_method`.\n",
    "\n",
    "We will see below the functions and attributes in different \"modes\":"
   ]
  },
  {
   "cell_type": "code",
   "execution_count": 82,
   "metadata": {},
   "outputs": [],
   "source": [
    "class EuropeanOption:\n",
    "    \n",
    "    def __init__(self):\n",
    "        self.variable_time_to_maturity = 0\n",
    "        self._variable_time_to_maturity = 0\n",
    "        self.__variable_time_to_maturity = 0\n",
    "        \n",
    "    def func_time_to_maturity(self):\n",
    "        return 0\n",
    "    \n",
    "    def _func_time_to_maturity(self):\n",
    "        return 0\n",
    "    \n",
    "    def __func_time_to_maturity(self):\n",
    "        return 0"
   ]
  },
  {
   "cell_type": "code",
   "execution_count": 83,
   "metadata": {},
   "outputs": [
    {
     "name": "stdout",
     "output_type": "stream",
     "text": [
      "['_EuropeanOption__func_time_to_maturity', '__class__', '__delattr__', '__dir__', '__eq__', '__format__', '__ge__', '__getattribute__', '__gt__', '__hash__', '__init__', '__init_subclass__', '__le__', '__lt__', '__ne__', '__new__', '__reduce__', '__reduce_ex__', '__repr__', '__setattr__', '__sizeof__', '__str__', '__subclasshook__', '_func_time_to_maturity', 'func_time_to_maturity']\n"
     ]
    },
    {
     "data": {
      "text/plain": [
       "{'variable_time_to_maturity': 0,\n",
       " '_variable_time_to_maturity': 0,\n",
       " '_EuropeanOption__variable_time_to_maturity': 0}"
      ]
     },
     "execution_count": 83,
     "metadata": {},
     "output_type": "execute_result"
    }
   ],
   "source": [
    "european_option_instance = EuropeanOption()\n",
    "print([item for item in dir(european_option_instance) if callable(getattr(european_option_instance, item))])\n",
    "european_option_instance.__dict__"
   ]
  },
  {
   "cell_type": "markdown",
   "metadata": {},
   "source": [
    "One of the ways to setup class attributes is to use private attributes to data and derive them out as a property. This is similar to using getters and setters meaning you can do validation and derivation."
   ]
  },
  {
   "cell_type": "code",
   "execution_count": 84,
   "metadata": {},
   "outputs": [],
   "source": [
    "class EuropeanOption:\n",
    "    \n",
    "    def __init__(self):\n",
    "        self.__time_to_maturity = 0\n",
    "        \n",
    "    @property\n",
    "    def time_to_maturity(self):\n",
    "        if self.__time_to_maturity is None:\n",
    "            raise Exception('\"time_to_maturity\" has not been set.')\n",
    "        return self.__time_to_maturity\n",
    "    \n",
    "    @time_to_maturity.setter\n",
    "    def time_to_maturity(self, value):\n",
    "        self.__time_to_maturity = float(value)"
   ]
  },
  {
   "cell_type": "markdown",
   "metadata": {},
   "source": [
    "## Inheritance"
   ]
  },
  {
   "cell_type": "markdown",
   "metadata": {},
   "source": [
    "Let us now talk about inheritance. We want to create a parent class for a European option and then inherit that into a call and a put option class. \n",
    "\n",
    "The idea here is to reduce the amount of duplicated code which makes it easier to maintain.\n",
    "\n",
    "We first start with deriving a call options class from a european instance class. In the `__init__` function of the derived class, we can user the `super()` function to retrieve the parent class and call the parent's `__init__` function."
   ]
  },
  {
   "cell_type": "code",
   "execution_count": 85,
   "metadata": {},
   "outputs": [],
   "source": [
    "class EuropeanOption:\n",
    "    \n",
    "    def __init__(self, current_time, current_asset_price, strike_price, asset_volatility, maturity,\n",
    "                 interest_rate):\n",
    "        \n",
    "        self.current_time = current_time\n",
    "        self.current_asset_price = current_asset_price\n",
    "        self.strike_price = strike_price\n",
    "        assert asset_volatility > 0, '\"asset_volatility\" needs to be greater than 0'\n",
    "        self.asset_volatility = asset_volatility\n",
    "        assert maturity >= current_time, '\"maturity\" needs to be greater than \"current_time\"'\n",
    "        self.maturity = maturity\n",
    "        self.interest_rate = interest_rate    \n",
    "    \n",
    "    def time_to_maturity(self):\n",
    "        return self.maturity - self.current_time\n",
    "    \n",
    "    \n",
    "class CallOption(EuropeanOption):\n",
    "    \n",
    "    def __init__(self, current_time, current_asset_price, strike_price, asset_volatility, maturity,\n",
    "                 interest_rate):\n",
    "        \n",
    "        super().__init__(current_time=current_time, current_asset_price=current_asset_price, \n",
    "                         strike_price=strike_price, asset_volatility=asset_volatility, maturity=maturity,\n",
    "                         interest_rate=interest_rate)"
   ]
  },
  {
   "cell_type": "markdown",
   "metadata": {},
   "source": [
    "The `super` function can be called without any arguments within the class, however, outside the class you have to give the class and the instance of the class."
   ]
  },
  {
   "cell_type": "code",
   "execution_count": 86,
   "metadata": {},
   "outputs": [
    {
     "name": "stdout",
     "output_type": "stream",
     "text": [
      "Children can call parent functions such as \"time_to_maturity\": 1\n",
      "\n",
      "\n",
      "If we have overwritten a function such as __init__ then we will always get the child function: <bound method CallOption.__init__ of <__main__.CallOption object at 0x7fc5518a33d0>>\n",
      "\n",
      "\n",
      "We can call the parent class function __init__ by using super: <bound method EuropeanOption.__init__ of <__main__.CallOption object at 0x7fc5518a33d0>>\n"
     ]
    }
   ],
   "source": [
    "call_european_option_instance = CallOption(current_time=0, current_asset_price=100, strike_price=100, \n",
    "                                           asset_volatility=0.1, maturity=1, interest_rate=0.01)\n",
    "\n",
    "print(f'Children can call parent functions such as \"time_to_maturity\": {call_european_option_instance.time_to_maturity()}')\n",
    "print('\\n')\n",
    "print(f'If we have overwritten a function such as __init__ then we will always get the child function: {call_european_option_instance.__init__}')\n",
    "print('\\n')\n",
    "print(f'We can call the parent class function __init__ by using super: {super(call_european_option_instance.__class__, call_european_option_instance).__init__}')"
   ]
  },
  {
   "cell_type": "markdown",
   "metadata": {},
   "source": [
    "Now we will derive both call and put options and put the logic in to calculate their current prices:"
   ]
  },
  {
   "cell_type": "code",
   "execution_count": 87,
   "metadata": {},
   "outputs": [],
   "source": [
    "class EuropeanOption:\n",
    "    \n",
    "    def __init__(self, current_time, current_asset_price, strike_price, asset_volatility, maturity,\n",
    "                 interest_rate):\n",
    "        \n",
    "        self.current_time = current_time\n",
    "        self.current_asset_price = current_asset_price\n",
    "        self.strike_price = strike_price\n",
    "        assert asset_volatility > 0, '\"asset_volatility\" needs to be greater than 0'\n",
    "        self.asset_volatility = asset_volatility\n",
    "        assert maturity >= current_time, '\"maturity\" needs to be greater than \"current_time\"'\n",
    "        self.maturity = maturity\n",
    "        self.interest_rate = interest_rate\n",
    "        \n",
    "    def get_present_value(self, value):\n",
    "        t = self.current_time\n",
    "        r = self.interest_rate\n",
    "        T = self.maturity\n",
    "        return value * np.exp(-r * (T - t))\n",
    "        \n",
    "    def get_d_1_d_2(self):\n",
    "        t = self.current_time\n",
    "        S_t = self.current_asset_price\n",
    "        K = self.strike_price\n",
    "        sigma = self.asset_volatility\n",
    "        T = self.maturity\n",
    "        r = self.interest_rate\n",
    "        \n",
    "        d_1 = (np.log(S_t / K) + (r + 0.5 * sigma ** 2) * (T - t)) / (sigma * np.sqrt(T - t))\n",
    "        d_2 = d_1 - sigma * np.sqrt(T - t)\n",
    "        \n",
    "        return d_1, d_2\n",
    "\n",
    "        \n",
    "        \n",
    "class CallOption(EuropeanOption):\n",
    "    \n",
    "    @property\n",
    "    def current_value(self):\n",
    "        \n",
    "        S_t = self.current_asset_price\n",
    "        K = self.strike_price\n",
    "        d_1, d_2 = self.get_d_1_d_2()\n",
    "        \n",
    "        return norm.cdf(d_1) * S_t - norm.cdf(d_2) * self.get_present_value(K)\n",
    "    \n",
    "    \n",
    "        \n",
    "class PutOption(EuropeanOption):\n",
    "    \n",
    "    @property\n",
    "    def current_value(self):\n",
    "        \n",
    "        S_t = self.current_asset_price\n",
    "        K = self.strike_price\n",
    "        d_1, d_2 = self.get_d_1_d_2()\n",
    "        \n",
    "        return -norm.cdf(-d_1) * S_t + norm.cdf(-d_2) * self.get_present_value(K)"
   ]
  },
  {
   "cell_type": "code",
   "execution_count": 88,
   "metadata": {},
   "outputs": [],
   "source": [
    "def make_call_option():\n",
    "    call_european_option_instance = CallOption(current_time=0, current_asset_price=100, strike_price=100, \n",
    "                                               asset_volatility=0.1, maturity=1, interest_rate=0.01)\n",
    "    return call_european_option_instance\n",
    "\n",
    "\n",
    "def make_put_option():\n",
    "    put_european_option_instance = PutOption(current_time=0, current_asset_price=100, strike_price=100, \n",
    "                                             asset_volatility=0.1, maturity=1, interest_rate=0.01)\n",
    "    return put_european_option_instance"
   ]
  },
  {
   "cell_type": "markdown",
   "metadata": {},
   "source": [
    "Note we did not need to define `__init__` for the children classes as it would just use the parent classes' `__init__` by default."
   ]
  },
  {
   "cell_type": "code",
   "execution_count": 89,
   "metadata": {},
   "outputs": [
    {
     "name": "stdout",
     "output_type": "stream",
     "text": [
      "Price of a call option: 4.49\n",
      "Price of a put option: 3.49\n"
     ]
    }
   ],
   "source": [
    "call_european_option_instance = make_call_option()\n",
    "put_european_option_instance = make_put_option()\n",
    "\n",
    "\n",
    "print(f'Price of a call option: {call_european_option_instance.current_value:.2f}')\n",
    "print(f'Price of a put option: {put_european_option_instance.current_value:.2f}')"
   ]
  },
  {
   "cell_type": "markdown",
   "metadata": {},
   "source": [
    "- We have managed to use class inheritance to avoid duplication of code. \n",
    "- We might not want users to be able to instantiate an `EuropeanOption` class as it is an abstract class. \n",
    "- We can do this using `abc` which is an abstract class module to specify an abstract function meaning that any child class of the abstract class is forced to define that abstract function.\n",
    "- We do it the following way:"
   ]
  },
  {
   "cell_type": "code",
   "execution_count": 90,
   "metadata": {},
   "outputs": [],
   "source": [
    "class EuropeanOption(abc.ABC):\n",
    "    \n",
    "    def __init__(self, current_time, current_asset_price, strike_price, asset_volatility, maturity,\n",
    "                 interest_rate):\n",
    "        \n",
    "        self.current_time = current_time\n",
    "        self.current_asset_price = current_asset_price\n",
    "        self.strike_price = strike_price\n",
    "        assert asset_volatility > 0, '\"asset_volatility\" needs to be greater than 0'\n",
    "        self.asset_volatility = asset_volatility\n",
    "        assert maturity >= current_time, '\"maturity\" needs to be greater than \"current_time\"'\n",
    "        self.maturity = maturity\n",
    "        self.interest_rate = interest_rate\n",
    "        \n",
    "    def get_present_value(self, value):\n",
    "        t = self.current_time\n",
    "        r = self.interest_rate\n",
    "        T = self.maturity\n",
    "        return value * np.exp(-r * (T - t))\n",
    "        \n",
    "    def get_d_1_d_2(self):\n",
    "        t = self.current_time\n",
    "        S_t = self.current_asset_price\n",
    "        K = self.strike_price\n",
    "        sigma = self.asset_volatility\n",
    "        T = self.maturity\n",
    "        r = self.interest_rate\n",
    "        \n",
    "        d_1 = (np.log(S_t / K) + (r + 0.5 * sigma ** 2) * (T - t)) / (sigma * np.sqrt(T - t))\n",
    "        d_2 = d_1 - sigma * np.sqrt(T - t)\n",
    "        \n",
    "        return d_1, d_2\n",
    "    \n",
    "    @abc.abstractmethod\n",
    "    def current_value(self):\n",
    "        pass\n",
    "\n",
    "        \n",
    "        \n",
    "class CallOption(EuropeanOption):\n",
    "    \n",
    "    @property\n",
    "    def current_value(self):\n",
    "        \n",
    "        S_t = self.current_asset_price\n",
    "        K = self.strike_price\n",
    "        d_1, d_2 = self.get_d_1_d_2()\n",
    "        \n",
    "        return norm.cdf(d_1) * S_t - norm.cdf(d_2) * self.get_present_value(K)\n",
    "    \n",
    "    \n",
    "        \n",
    "class PutOption(EuropeanOption):\n",
    "    \n",
    "    @property\n",
    "    def current_value(self):\n",
    "        \n",
    "        S_t = self.current_asset_price\n",
    "        K = self.strike_price\n",
    "        d_1, d_2 = self.get_d_1_d_2()\n",
    "        \n",
    "        return -norm.cdf(-d_1) * S_t + norm.cdf(-d_2) * self.get_present_value(K)"
   ]
  },
  {
   "cell_type": "code",
   "execution_count": 91,
   "metadata": {},
   "outputs": [],
   "source": [
    "#error\n",
    "# EuropeanOption()"
   ]
  },
  {
   "cell_type": "markdown",
   "metadata": {},
   "source": [
    "## Magic Methods"
   ]
  },
  {
   "cell_type": "markdown",
   "metadata": {},
   "source": [
    "In python, classes have magic methods which are defined as dunder methods within the class but outside the class you can call with the dunder.\n",
    "\n",
    "For example we can define `__str__` method inside the class and then call it on the instance as `str(class_instance)`. This method is used when we directly print a class instance."
   ]
  },
  {
   "cell_type": "code",
   "execution_count": 92,
   "metadata": {},
   "outputs": [
    {
     "name": "stdout",
     "output_type": "stream",
     "text": [
      "Before defining the __str__ magic method:\n",
      "<__main__.EuropeanOption object at 0x7fc55138d710>\n",
      "\n",
      "\n",
      "After defining the __str__ magic method:\n",
      "I am a European option instance!\n"
     ]
    }
   ],
   "source": [
    "class EuropeanOption:\n",
    "    \n",
    "    def __init__(self, current_time, current_asset_price, strike_price, asset_volatility, maturity,\n",
    "                 interest_rate):\n",
    "        \n",
    "        self.current_time = current_time\n",
    "        self.current_asset_price = current_asset_price\n",
    "        self.strike_price = strike_price\n",
    "        assert asset_volatility > 0, '\"asset_volatility\" needs to be greater than 0'\n",
    "        self.asset_volatility = asset_volatility\n",
    "        assert maturity >= current_time, '\"maturity\" needs to be greater than \"current_time\"'\n",
    "        self.maturity = maturity\n",
    "        self.interest_rate = interest_rate    \n",
    "\n",
    "european_option_instance = make_option()\n",
    "print('Before defining the __str__ magic method:')\n",
    "print(european_option_instance)\n",
    "\n",
    "class EuropeanOption:\n",
    "    \n",
    "    def __init__(self, current_time, current_asset_price, strike_price, asset_volatility, maturity,\n",
    "                 interest_rate):\n",
    "        \n",
    "        self.current_time = current_time\n",
    "        self.current_asset_price = current_asset_price\n",
    "        self.strike_price = strike_price\n",
    "        assert asset_volatility > 0, '\"asset_volatility\" needs to be greater than 0'\n",
    "        self.asset_volatility = asset_volatility\n",
    "        assert maturity >= current_time, '\"maturity\" needs to be greater than \"current_time\"'\n",
    "        self.maturity = maturity\n",
    "        self.interest_rate = interest_rate    \n",
    "        \n",
    "    def __str__(self):\n",
    "        return 'I am a European option instance!'\n",
    "\n",
    "european_option_instance = make_option()\n",
    "print('\\n')\n",
    "print('After defining the __str__ magic method:')\n",
    "print(european_option_instance)\n"
   ]
  },
  {
   "cell_type": "markdown",
   "metadata": {},
   "source": [
    "Similarly, you can find the list of magic methods here. They can be very useful in terms of being able to use other python inbuilt function such as `sorted`.\n",
    "\n",
    "Let us now create a final implementation:"
   ]
  },
  {
   "cell_type": "code",
   "execution_count": 122,
   "metadata": {},
   "outputs": [],
   "source": [
    "class EuropeanOption(abc.ABC):\n",
    "    \n",
    "    def __init__(self, current_time, current_asset_price, strike_price, asset_volatility, maturity,\n",
    "                 interest_rate):\n",
    "        \n",
    "        self.current_time = current_time\n",
    "        self.current_asset_price = current_asset_price\n",
    "        self.strike_price = strike_price\n",
    "        assert asset_volatility > 0, '\"asset_volatility\" needs to be greater than 0'\n",
    "        self.asset_volatility = asset_volatility\n",
    "        assert maturity >= current_time, '\"maturity\" needs to be greater than \"current_time\"'\n",
    "        self.maturity = maturity\n",
    "        self.interest_rate = interest_rate\n",
    "        \n",
    "    def get_present_value(self, value):\n",
    "        t = self.current_time\n",
    "        r = self.interest_rate\n",
    "        T = self.maturity\n",
    "        return value * np.exp(-r * (T - t))\n",
    "        \n",
    "    def get_d_1_d_2(self):\n",
    "        t = self.current_time\n",
    "        S_t = self.current_asset_price\n",
    "        K = self.strike_price\n",
    "        sigma = self.asset_volatility\n",
    "        T = self.maturity\n",
    "        r = self.interest_rate\n",
    "        \n",
    "        d_1 = (np.log(S_t / K) + (r + 0.5 * sigma ** 2) * (T - t)) / (sigma * np.sqrt(T - t))\n",
    "        d_2 = d_1 - sigma * np.sqrt(T - t)\n",
    "        \n",
    "        return d_1, d_2\n",
    "    \n",
    "    @abc.abstractmethod\n",
    "    def current_value(self):\n",
    "        pass\n",
    "    \n",
    "    def __str__(self):\n",
    "        return f'{self.__class__.__name__}:{self.current_time}-{self.maturity}:' + \\\n",
    "            f'{self.current_asset_price}@{self.strike_price}-{self.asset_volatility}:{self.interest_rate}'\n",
    "    \n",
    "    def __eq__(self, other):\n",
    "        return str(self) == str(other)\n",
    "\n",
    "        \n",
    "        \n",
    "class CallOption(EuropeanOption):\n",
    "    \n",
    "    @property\n",
    "    def current_value(self):\n",
    "        \n",
    "        S_t = self.current_asset_price\n",
    "        K = self.strike_price\n",
    "        d_1, d_2 = self.get_d_1_d_2()\n",
    "        \n",
    "        return norm.cdf(d_1) * S_t - norm.cdf(d_2) * self.get_present_value(K)\n",
    "    \n",
    "    \n",
    "        \n",
    "class PutOption(EuropeanOption):\n",
    "    \n",
    "    @property\n",
    "    def current_value(self):\n",
    "        \n",
    "        S_t = self.current_asset_price\n",
    "        K = self.strike_price\n",
    "        d_1, d_2 = self.get_d_1_d_2()\n",
    "        \n",
    "        return -norm.cdf(-d_1) * S_t + norm.cdf(-d_2) * self.get_present_value(K)"
   ]
  },
  {
   "cell_type": "code",
   "execution_count": 123,
   "metadata": {},
   "outputs": [
    {
     "name": "stdout",
     "output_type": "stream",
     "text": [
      "CallOption:0-1:100@100-0.1:0.01\n",
      "CallOption:0-1:100@100-0.1:0.01\n",
      "Is x == y: True\n",
      "PutOption:0-1:100@100-0.1:0.01\n",
      "Is x == y: False\n"
     ]
    }
   ],
   "source": [
    "x = make_call_option()\n",
    "y = make_call_option()\n",
    "z = make_put_option()\n",
    "\n",
    "print(x)\n",
    "print(y)\n",
    "print(f'Is x == y: {x == y}')\n",
    "print(z)\n",
    "print(f'Is x == y: {x == z}')"
   ]
  }
 ],
 "metadata": {
  "kernelspec": {
   "display_name": "Python 3",
   "language": "python",
   "name": "python3"
  },
  "language_info": {
   "codemirror_mode": {
    "name": "ipython",
    "version": 3
   },
   "file_extension": ".py",
   "mimetype": "text/x-python",
   "name": "python",
   "nbconvert_exporter": "python",
   "pygments_lexer": "ipython3",
   "version": "3.7.4"
  }
 },
 "nbformat": 4,
 "nbformat_minor": 4
}
